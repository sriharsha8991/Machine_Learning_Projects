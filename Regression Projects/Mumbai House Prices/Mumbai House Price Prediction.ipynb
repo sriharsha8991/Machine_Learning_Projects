{
 "cells": [
  {
   "cell_type": "markdown",
   "id": "e43c231e",
   "metadata": {},
   "source": [
    "# Mumbai - Houses Price Prediction"
   ]
  },
  {
   "cell_type": "code",
   "execution_count": 1,
   "id": "431ef266",
   "metadata": {},
   "outputs": [
    {
     "data": {
      "application/javascript": [
       "\n",
       "        if (window._pyforest_update_imports_cell) { window._pyforest_update_imports_cell('import pandas as pd'); }\n",
       "    "
      ],
      "text/plain": [
       "<IPython.core.display.Javascript object>"
      ]
     },
     "metadata": {},
     "output_type": "display_data"
    },
    {
     "data": {
      "text/html": [
       "<div>\n",
       "<style scoped>\n",
       "    .dataframe tbody tr th:only-of-type {\n",
       "        vertical-align: middle;\n",
       "    }\n",
       "\n",
       "    .dataframe tbody tr th {\n",
       "        vertical-align: top;\n",
       "    }\n",
       "\n",
       "    .dataframe thead th {\n",
       "        text-align: right;\n",
       "    }\n",
       "</style>\n",
       "<table border=\"1\" class=\"dataframe\">\n",
       "  <thead>\n",
       "    <tr style=\"text-align: right;\">\n",
       "      <th></th>\n",
       "      <th>Price</th>\n",
       "      <th>Area</th>\n",
       "      <th>Location</th>\n",
       "      <th>No. of Bedrooms</th>\n",
       "      <th>New/Resale</th>\n",
       "      <th>Gymnasium</th>\n",
       "      <th>Lift Available</th>\n",
       "      <th>Car Parking</th>\n",
       "      <th>Maintenance Staff</th>\n",
       "      <th>24x7 Security</th>\n",
       "      <th>Children's Play Area</th>\n",
       "      <th>Clubhouse</th>\n",
       "      <th>Intercom</th>\n",
       "      <th>Landscaped Gardens</th>\n",
       "      <th>Indoor Games</th>\n",
       "      <th>Gas Connection</th>\n",
       "      <th>Jogging Track</th>\n",
       "      <th>Swimming Pool</th>\n",
       "    </tr>\n",
       "  </thead>\n",
       "  <tbody>\n",
       "    <tr>\n",
       "      <th>0</th>\n",
       "      <td>4850000</td>\n",
       "      <td>720</td>\n",
       "      <td>Kharghar</td>\n",
       "      <td>1</td>\n",
       "      <td>0</td>\n",
       "      <td>0</td>\n",
       "      <td>1</td>\n",
       "      <td>1</td>\n",
       "      <td>1</td>\n",
       "      <td>1</td>\n",
       "      <td>0</td>\n",
       "      <td>0</td>\n",
       "      <td>0</td>\n",
       "      <td>0</td>\n",
       "      <td>0</td>\n",
       "      <td>0</td>\n",
       "      <td>0</td>\n",
       "      <td>0</td>\n",
       "    </tr>\n",
       "    <tr>\n",
       "      <th>1</th>\n",
       "      <td>4500000</td>\n",
       "      <td>600</td>\n",
       "      <td>Kharghar</td>\n",
       "      <td>1</td>\n",
       "      <td>0</td>\n",
       "      <td>1</td>\n",
       "      <td>1</td>\n",
       "      <td>1</td>\n",
       "      <td>1</td>\n",
       "      <td>1</td>\n",
       "      <td>0</td>\n",
       "      <td>1</td>\n",
       "      <td>0</td>\n",
       "      <td>0</td>\n",
       "      <td>0</td>\n",
       "      <td>0</td>\n",
       "      <td>1</td>\n",
       "      <td>1</td>\n",
       "    </tr>\n",
       "    <tr>\n",
       "      <th>2</th>\n",
       "      <td>6700000</td>\n",
       "      <td>650</td>\n",
       "      <td>Kharghar</td>\n",
       "      <td>1</td>\n",
       "      <td>0</td>\n",
       "      <td>1</td>\n",
       "      <td>1</td>\n",
       "      <td>1</td>\n",
       "      <td>1</td>\n",
       "      <td>1</td>\n",
       "      <td>1</td>\n",
       "      <td>1</td>\n",
       "      <td>1</td>\n",
       "      <td>0</td>\n",
       "      <td>0</td>\n",
       "      <td>0</td>\n",
       "      <td>1</td>\n",
       "      <td>1</td>\n",
       "    </tr>\n",
       "    <tr>\n",
       "      <th>3</th>\n",
       "      <td>4500000</td>\n",
       "      <td>650</td>\n",
       "      <td>Kharghar</td>\n",
       "      <td>1</td>\n",
       "      <td>0</td>\n",
       "      <td>0</td>\n",
       "      <td>1</td>\n",
       "      <td>1</td>\n",
       "      <td>1</td>\n",
       "      <td>1</td>\n",
       "      <td>0</td>\n",
       "      <td>0</td>\n",
       "      <td>1</td>\n",
       "      <td>1</td>\n",
       "      <td>0</td>\n",
       "      <td>0</td>\n",
       "      <td>0</td>\n",
       "      <td>0</td>\n",
       "    </tr>\n",
       "    <tr>\n",
       "      <th>4</th>\n",
       "      <td>5000000</td>\n",
       "      <td>665</td>\n",
       "      <td>Kharghar</td>\n",
       "      <td>1</td>\n",
       "      <td>0</td>\n",
       "      <td>0</td>\n",
       "      <td>1</td>\n",
       "      <td>1</td>\n",
       "      <td>1</td>\n",
       "      <td>1</td>\n",
       "      <td>0</td>\n",
       "      <td>0</td>\n",
       "      <td>1</td>\n",
       "      <td>1</td>\n",
       "      <td>0</td>\n",
       "      <td>0</td>\n",
       "      <td>0</td>\n",
       "      <td>0</td>\n",
       "    </tr>\n",
       "    <tr>\n",
       "      <th>...</th>\n",
       "      <td>...</td>\n",
       "      <td>...</td>\n",
       "      <td>...</td>\n",
       "      <td>...</td>\n",
       "      <td>...</td>\n",
       "      <td>...</td>\n",
       "      <td>...</td>\n",
       "      <td>...</td>\n",
       "      <td>...</td>\n",
       "      <td>...</td>\n",
       "      <td>...</td>\n",
       "      <td>...</td>\n",
       "      <td>...</td>\n",
       "      <td>...</td>\n",
       "      <td>...</td>\n",
       "      <td>...</td>\n",
       "      <td>...</td>\n",
       "      <td>...</td>\n",
       "    </tr>\n",
       "    <tr>\n",
       "      <th>6342</th>\n",
       "      <td>2485000</td>\n",
       "      <td>700</td>\n",
       "      <td>Shirgaon</td>\n",
       "      <td>1</td>\n",
       "      <td>1</td>\n",
       "      <td>0</td>\n",
       "      <td>0</td>\n",
       "      <td>0</td>\n",
       "      <td>0</td>\n",
       "      <td>0</td>\n",
       "      <td>0</td>\n",
       "      <td>0</td>\n",
       "      <td>0</td>\n",
       "      <td>0</td>\n",
       "      <td>0</td>\n",
       "      <td>0</td>\n",
       "      <td>0</td>\n",
       "      <td>0</td>\n",
       "    </tr>\n",
       "    <tr>\n",
       "      <th>6343</th>\n",
       "      <td>14500000</td>\n",
       "      <td>900</td>\n",
       "      <td>Thane West</td>\n",
       "      <td>2</td>\n",
       "      <td>0</td>\n",
       "      <td>0</td>\n",
       "      <td>0</td>\n",
       "      <td>0</td>\n",
       "      <td>0</td>\n",
       "      <td>0</td>\n",
       "      <td>0</td>\n",
       "      <td>0</td>\n",
       "      <td>0</td>\n",
       "      <td>0</td>\n",
       "      <td>0</td>\n",
       "      <td>0</td>\n",
       "      <td>0</td>\n",
       "      <td>0</td>\n",
       "    </tr>\n",
       "    <tr>\n",
       "      <th>6344</th>\n",
       "      <td>14500000</td>\n",
       "      <td>900</td>\n",
       "      <td>Thane West</td>\n",
       "      <td>2</td>\n",
       "      <td>0</td>\n",
       "      <td>0</td>\n",
       "      <td>1</td>\n",
       "      <td>0</td>\n",
       "      <td>0</td>\n",
       "      <td>0</td>\n",
       "      <td>0</td>\n",
       "      <td>0</td>\n",
       "      <td>1</td>\n",
       "      <td>0</td>\n",
       "      <td>0</td>\n",
       "      <td>1</td>\n",
       "      <td>0</td>\n",
       "      <td>0</td>\n",
       "    </tr>\n",
       "    <tr>\n",
       "      <th>6345</th>\n",
       "      <td>4100000</td>\n",
       "      <td>1380</td>\n",
       "      <td>Boisar</td>\n",
       "      <td>3</td>\n",
       "      <td>0</td>\n",
       "      <td>0</td>\n",
       "      <td>0</td>\n",
       "      <td>0</td>\n",
       "      <td>0</td>\n",
       "      <td>0</td>\n",
       "      <td>0</td>\n",
       "      <td>0</td>\n",
       "      <td>0</td>\n",
       "      <td>0</td>\n",
       "      <td>0</td>\n",
       "      <td>0</td>\n",
       "      <td>0</td>\n",
       "      <td>0</td>\n",
       "    </tr>\n",
       "    <tr>\n",
       "      <th>6346</th>\n",
       "      <td>2750000</td>\n",
       "      <td>700</td>\n",
       "      <td>Badlapur East</td>\n",
       "      <td>1</td>\n",
       "      <td>1</td>\n",
       "      <td>1</td>\n",
       "      <td>1</td>\n",
       "      <td>1</td>\n",
       "      <td>0</td>\n",
       "      <td>1</td>\n",
       "      <td>1</td>\n",
       "      <td>1</td>\n",
       "      <td>0</td>\n",
       "      <td>1</td>\n",
       "      <td>1</td>\n",
       "      <td>0</td>\n",
       "      <td>1</td>\n",
       "      <td>1</td>\n",
       "    </tr>\n",
       "  </tbody>\n",
       "</table>\n",
       "<p>6347 rows × 18 columns</p>\n",
       "</div>"
      ],
      "text/plain": [
       "         Price  Area       Location  No. of Bedrooms  New/Resale  Gymnasium  \\\n",
       "0      4850000   720       Kharghar                1           0          0   \n",
       "1      4500000   600       Kharghar                1           0          1   \n",
       "2      6700000   650       Kharghar                1           0          1   \n",
       "3      4500000   650       Kharghar                1           0          0   \n",
       "4      5000000   665       Kharghar                1           0          0   \n",
       "...        ...   ...            ...              ...         ...        ...   \n",
       "6342   2485000   700       Shirgaon                1           1          0   \n",
       "6343  14500000   900     Thane West                2           0          0   \n",
       "6344  14500000   900     Thane West                2           0          0   \n",
       "6345   4100000  1380         Boisar                3           0          0   \n",
       "6346   2750000   700  Badlapur East                1           1          1   \n",
       "\n",
       "      Lift Available  Car Parking  Maintenance Staff  24x7 Security  \\\n",
       "0                  1            1                  1              1   \n",
       "1                  1            1                  1              1   \n",
       "2                  1            1                  1              1   \n",
       "3                  1            1                  1              1   \n",
       "4                  1            1                  1              1   \n",
       "...              ...          ...                ...            ...   \n",
       "6342               0            0                  0              0   \n",
       "6343               0            0                  0              0   \n",
       "6344               1            0                  0              0   \n",
       "6345               0            0                  0              0   \n",
       "6346               1            1                  0              1   \n",
       "\n",
       "      Children's Play Area  Clubhouse  Intercom  Landscaped Gardens  \\\n",
       "0                        0          0         0                   0   \n",
       "1                        0          1         0                   0   \n",
       "2                        1          1         1                   0   \n",
       "3                        0          0         1                   1   \n",
       "4                        0          0         1                   1   \n",
       "...                    ...        ...       ...                 ...   \n",
       "6342                     0          0         0                   0   \n",
       "6343                     0          0         0                   0   \n",
       "6344                     0          0         1                   0   \n",
       "6345                     0          0         0                   0   \n",
       "6346                     1          1         0                   1   \n",
       "\n",
       "      Indoor Games  Gas Connection  Jogging Track  Swimming Pool  \n",
       "0                0               0              0              0  \n",
       "1                0               0              1              1  \n",
       "2                0               0              1              1  \n",
       "3                0               0              0              0  \n",
       "4                0               0              0              0  \n",
       "...            ...             ...            ...            ...  \n",
       "6342             0               0              0              0  \n",
       "6343             0               0              0              0  \n",
       "6344             0               1              0              0  \n",
       "6345             0               0              0              0  \n",
       "6346             1               0              1              1  \n",
       "\n",
       "[6347 rows x 18 columns]"
      ]
     },
     "execution_count": 1,
     "metadata": {},
     "output_type": "execute_result"
    }
   ],
   "source": [
    "df = pd.read_csv(\"Mumbai1.csv\",index_col=0)\n",
    "df"
   ]
  },
  {
   "cell_type": "code",
   "execution_count": 2,
   "id": "d0f6d6b2",
   "metadata": {},
   "outputs": [
    {
     "name": "stdout",
     "output_type": "stream",
     "text": [
      "<class 'pandas.core.frame.DataFrame'>\n",
      "Int64Index: 6347 entries, 0 to 6346\n",
      "Data columns (total 18 columns):\n",
      " #   Column                Non-Null Count  Dtype \n",
      "---  ------                --------------  ----- \n",
      " 0   Price                 6347 non-null   int64 \n",
      " 1   Area                  6347 non-null   int64 \n",
      " 2   Location              6347 non-null   object\n",
      " 3   No. of Bedrooms       6347 non-null   int64 \n",
      " 4   New/Resale            6347 non-null   int64 \n",
      " 5   Gymnasium             6347 non-null   int64 \n",
      " 6   Lift Available        6347 non-null   int64 \n",
      " 7   Car Parking           6347 non-null   int64 \n",
      " 8   Maintenance Staff     6347 non-null   int64 \n",
      " 9   24x7 Security         6347 non-null   int64 \n",
      " 10  Children's Play Area  6347 non-null   int64 \n",
      " 11  Clubhouse             6347 non-null   int64 \n",
      " 12  Intercom              6347 non-null   int64 \n",
      " 13  Landscaped Gardens    6347 non-null   int64 \n",
      " 14  Indoor Games          6347 non-null   int64 \n",
      " 15  Gas Connection        6347 non-null   int64 \n",
      " 16  Jogging Track         6347 non-null   int64 \n",
      " 17  Swimming Pool         6347 non-null   int64 \n",
      "dtypes: int64(17), object(1)\n",
      "memory usage: 942.1+ KB\n"
     ]
    }
   ],
   "source": [
    "df.info()"
   ]
  },
  {
   "cell_type": "code",
   "execution_count": 3,
   "id": "7879743a",
   "metadata": {},
   "outputs": [],
   "source": [
    "# from sklearn.preprocessing import StandardScaler\n",
    "# sc = StandardScaler().fit(df[['Price']])\n",
    "# xs = sc.transform(df[['Price']])\n",
    "# df['Price'] = pd.DataFrame(xs)\n",
    "#Reduced price value by 1000 times to make it comaparable to other values in the data set"
   ]
  },
  {
   "cell_type": "code",
   "execution_count": 4,
   "id": "c1cd3670",
   "metadata": {},
   "outputs": [
    {
     "data": {
      "text/plain": [
       "0        4850000\n",
       "1        4500000\n",
       "2        6700000\n",
       "3        4500000\n",
       "4        5000000\n",
       "          ...   \n",
       "6342     2485000\n",
       "6343    14500000\n",
       "6344    14500000\n",
       "6345     4100000\n",
       "6346     2750000\n",
       "Name: Price, Length: 6347, dtype: int64"
      ]
     },
     "execution_count": 4,
     "metadata": {},
     "output_type": "execute_result"
    }
   ],
   "source": [
    "df['Price']"
   ]
  },
  {
   "cell_type": "code",
   "execution_count": 5,
   "id": "69d67c4b",
   "metadata": {},
   "outputs": [
    {
     "data": {
      "application/javascript": [
       "\n",
       "        if (window._pyforest_update_imports_cell) { window._pyforest_update_imports_cell('import seaborn as sns\\nimport pandas as pd'); }\n",
       "    "
      ],
      "text/plain": [
       "<IPython.core.display.Javascript object>"
      ]
     },
     "metadata": {},
     "output_type": "display_data"
    },
    {
     "name": "stderr",
     "output_type": "stream",
     "text": [
      "C:\\Users\\sriharsha\\anaconda3\\lib\\site-packages\\seaborn\\distributions.py:2557: FutureWarning: `distplot` is a deprecated function and will be removed in a future version. Please adapt your code to use either `displot` (a figure-level function with similar flexibility) or `histplot` (an axes-level function for histograms).\n",
      "  warnings.warn(msg, FutureWarning)\n"
     ]
    },
    {
     "data": {
      "text/plain": [
       "<AxesSubplot:xlabel='Price', ylabel='Density'>"
      ]
     },
     "execution_count": 5,
     "metadata": {},
     "output_type": "execute_result"
    },
    {
     "data": {
      "image/png": "[encoded data removed]",
      "text/plain": [
       "<Figure size 432x288 with 1 Axes>"
      ]
     },
     "metadata": {
      "needs_background": "light"
     },
     "output_type": "display_data"
    }
   ],
   "source": [
    "sns.distplot(df['Price'])"
   ]
  },
  {
   "cell_type": "code",
   "execution_count": 6,
   "id": "e5eb3dd5",
   "metadata": {},
   "outputs": [
    {
     "data": {
      "application/javascript": [
       "\n",
       "        if (window._pyforest_update_imports_cell) { window._pyforest_update_imports_cell('import seaborn as sns\\nimport pandas as pd'); }\n",
       "    "
      ],
      "text/plain": [
       "<IPython.core.display.Javascript object>"
      ]
     },
     "metadata": {},
     "output_type": "display_data"
    },
    {
     "name": "stderr",
     "output_type": "stream",
     "text": [
      "C:\\Users\\sriharsha\\anaconda3\\lib\\site-packages\\seaborn\\_decorators.py:36: FutureWarning: Pass the following variable as a keyword arg: x. From version 0.12, the only valid positional argument will be `data`, and passing other arguments without an explicit keyword will result in an error or misinterpretation.\n",
      "  warnings.warn(\n"
     ]
    },
    {
     "data": {
      "text/plain": [
       "<AxesSubplot:xlabel='Price'>"
      ]
     },
     "execution_count": 6,
     "metadata": {},
     "output_type": "execute_result"
    },
    {
     "data": {
      "image/png": "[encoded data removed]",
      "text/plain": [
       "<Figure size 432x288 with 1 Axes>"
      ]
     },
     "metadata": {
      "needs_background": "light"
     },
     "output_type": "display_data"
    }
   ],
   "source": [
    "sns.boxplot(df['Price'])"
   ]
  },
  {
   "cell_type": "markdown",
   "id": "0f2730e5",
   "metadata": {},
   "source": [
    "###  Seems to be some outliers were in data set"
   ]
  },
  {
   "cell_type": "code",
   "execution_count": 7,
   "id": "c1a63b1a",
   "metadata": {},
   "outputs": [
    {
     "data": {
      "text/plain": [
       "44439999.99999996"
      ]
     },
     "execution_count": 7,
     "metadata": {},
     "output_type": "execute_result"
    }
   ],
   "source": [
    "df['Price'].quantile(.95)"
   ]
  },
  {
   "cell_type": "code",
   "execution_count": 8,
   "id": "bf40c1f5",
   "metadata": {},
   "outputs": [],
   "source": [
    "#df = df[df['Price']<44440]"
   ]
  },
  {
   "cell_type": "code",
   "execution_count": 9,
   "id": "89c61fcc",
   "metadata": {},
   "outputs": [
    {
     "data": {
      "text/plain": [
       "318"
      ]
     },
     "execution_count": 9,
     "metadata": {},
     "output_type": "execute_result"
    }
   ],
   "source": [
    "6347-6029 #No of outliers in the data set"
   ]
  },
  {
   "cell_type": "code",
   "execution_count": 10,
   "id": "4db160a8",
   "metadata": {},
   "outputs": [
    {
     "data": {
      "application/javascript": [
       "\n",
       "        if (window._pyforest_update_imports_cell) { window._pyforest_update_imports_cell('import seaborn as sns\\nimport pandas as pd'); }\n",
       "    "
      ],
      "text/plain": [
       "<IPython.core.display.Javascript object>"
      ]
     },
     "metadata": {},
     "output_type": "display_data"
    },
    {
     "name": "stderr",
     "output_type": "stream",
     "text": [
      "C:\\Users\\sriharsha\\anaconda3\\lib\\site-packages\\seaborn\\_decorators.py:36: FutureWarning: Pass the following variable as a keyword arg: x. From version 0.12, the only valid positional argument will be `data`, and passing other arguments without an explicit keyword will result in an error or misinterpretation.\n",
      "  warnings.warn(\n"
     ]
    },
    {
     "data": {
      "text/plain": [
       "<AxesSubplot:xlabel='Price'>"
      ]
     },
     "execution_count": 10,
     "metadata": {},
     "output_type": "execute_result"
    },
    {
     "data": {
      "image/png": "[encoded data removed]",
      "text/plain": [
       "<Figure size 432x288 with 1 Axes>"
      ]
     },
     "metadata": {
      "needs_background": "light"
     },
     "output_type": "display_data"
    }
   ],
   "source": [
    "sns.boxplot(df['Price'])"
   ]
  },
  {
   "cell_type": "code",
   "execution_count": 11,
   "id": "ba987d39",
   "metadata": {},
   "outputs": [
    {
     "data": {
      "text/plain": [
       "44439999.99999996"
      ]
     },
     "execution_count": 11,
     "metadata": {},
     "output_type": "execute_result"
    }
   ],
   "source": [
    "df['Price'].quantile(.95)"
   ]
  },
  {
   "cell_type": "code",
   "execution_count": 12,
   "id": "e75faea1",
   "metadata": {},
   "outputs": [
    {
     "data": {
      "text/plain": [
       "2394000.0"
      ]
     },
     "execution_count": 12,
     "metadata": {},
     "output_type": "execute_result"
    }
   ],
   "source": [
    "df['Price'].quantile(.03)"
   ]
  },
  {
   "cell_type": "code",
   "execution_count": null,
   "id": "4fe76769",
   "metadata": {},
   "outputs": [],
   "source": []
  },
  {
   "cell_type": "code",
   "execution_count": 13,
   "id": "bad50397",
   "metadata": {},
   "outputs": [
    {
     "data": {
      "application/javascript": [
       "\n",
       "        if (window._pyforest_update_imports_cell) { window._pyforest_update_imports_cell('import seaborn as sns\\nimport pandas as pd'); }\n",
       "    "
      ],
      "text/plain": [
       "<IPython.core.display.Javascript object>"
      ]
     },
     "metadata": {},
     "output_type": "display_data"
    },
    {
     "name": "stderr",
     "output_type": "stream",
     "text": [
      "C:\\Users\\sriharsha\\anaconda3\\lib\\site-packages\\seaborn\\_decorators.py:36: FutureWarning: Pass the following variable as a keyword arg: x. From version 0.12, the only valid positional argument will be `data`, and passing other arguments without an explicit keyword will result in an error or misinterpretation.\n",
      "  warnings.warn(\n"
     ]
    },
    {
     "data": {
      "text/plain": [
       "<AxesSubplot:xlabel='Price'>"
      ]
     },
     "execution_count": 13,
     "metadata": {},
     "output_type": "execute_result"
    },
    {
     "data": {
      "image/png": "[encoded data removed]",
      "text/plain": [
       "<Figure size 432x288 with 1 Axes>"
      ]
     },
     "metadata": {
      "needs_background": "light"
     },
     "output_type": "display_data"
    }
   ],
   "source": [
    "sns.boxplot(df['Price'])"
   ]
  },
  {
   "cell_type": "code",
   "execution_count": 14,
   "id": "81af905a",
   "metadata": {},
   "outputs": [
    {
     "data": {
      "text/plain": [
       "1.0969749351771825"
      ]
     },
     "execution_count": 14,
     "metadata": {},
     "output_type": "execute_result"
    }
   ],
   "source": [
    "6346/5785   #1% of data is lost"
   ]
  },
  {
   "cell_type": "markdown",
   "id": "ba6edb21",
   "metadata": {},
   "source": [
    "## Feature Engineering"
   ]
  },
  {
   "cell_type": "code",
   "execution_count": 15,
   "id": "ef933cd4",
   "metadata": {},
   "outputs": [],
   "source": [
    "#Since Location is one of the important feature we are represnting that with the ratio of price to Area\n",
    "df['ratio'] = df['Price']/df['Area']"
   ]
  },
  {
   "cell_type": "code",
   "execution_count": 16,
   "id": "9d5545c6",
   "metadata": {
    "scrolled": true
   },
   "outputs": [
    {
     "data": {
      "text/plain": [
       "Index(['Price', 'Area', 'Location', 'No. of Bedrooms', 'New/Resale',\n",
       "       'Gymnasium', 'Lift Available', 'Car Parking', 'Maintenance Staff',\n",
       "       '24x7 Security', 'Children's Play Area', 'Clubhouse', 'Intercom',\n",
       "       'Landscaped Gardens', 'Indoor Games', 'Gas Connection', 'Jogging Track',\n",
       "       'Swimming Pool', 'ratio'],\n",
       "      dtype='object')"
      ]
     },
     "execution_count": 16,
     "metadata": {},
     "output_type": "execute_result"
    }
   ],
   "source": [
    "df.columns"
   ]
  },
  {
   "cell_type": "markdown",
   "id": "2b350b04",
   "metadata": {},
   "source": [
    "## Minimizing the number of columns"
   ]
  },
  {
   "cell_type": "code",
   "execution_count": 17,
   "id": "e51e21e8",
   "metadata": {},
   "outputs": [],
   "source": [
    "df['maintain'] = df['Lift Available'] + df['Car Parking']+df['Maintenance Staff'] + df['24x7 Security']\n",
    "df['maintain']\n",
    "df.columns\n",
    "df.drop(['Lift Available', 'Car Parking', 'Maintenance Staff', '24x7 Security'],axis=1,inplace = True)"
   ]
  },
  {
   "cell_type": "code",
   "execution_count": 18,
   "id": "522f1d13",
   "metadata": {},
   "outputs": [],
   "source": [
    "df['extra_space'] = df['Children\\'s Play Area'] + df['Landscaped Gardens'] + df['Jogging Track']\n",
    "#df[df['No. of Bedrooms']>=5]\n",
    "df.drop(['Children\\'s Play Area','Landscaped Gardens','Jogging Track'],axis =1,inplace = True )"
   ]
  },
  {
   "cell_type": "code",
   "execution_count": 19,
   "id": "fb4befef",
   "metadata": {},
   "outputs": [],
   "source": [
    "df['Price'] /= 1000\n",
    "#reducing the Price values for better scalability"
   ]
  },
  {
   "cell_type": "code",
   "execution_count": 20,
   "id": "9a0053e6",
   "metadata": {
    "scrolled": false
   },
   "outputs": [
    {
     "data": {
      "text/html": [
       "<div>\n",
       "<style scoped>\n",
       "    .dataframe tbody tr th:only-of-type {\n",
       "        vertical-align: middle;\n",
       "    }\n",
       "\n",
       "    .dataframe tbody tr th {\n",
       "        vertical-align: top;\n",
       "    }\n",
       "\n",
       "    .dataframe thead th {\n",
       "        text-align: right;\n",
       "    }\n",
       "</style>\n",
       "<table border=\"1\" class=\"dataframe\">\n",
       "  <thead>\n",
       "    <tr style=\"text-align: right;\">\n",
       "      <th></th>\n",
       "      <th>Price</th>\n",
       "      <th>Area</th>\n",
       "      <th>No. of Bedrooms</th>\n",
       "      <th>New/Resale</th>\n",
       "      <th>Gymnasium</th>\n",
       "      <th>Clubhouse</th>\n",
       "      <th>Intercom</th>\n",
       "      <th>Indoor Games</th>\n",
       "      <th>Gas Connection</th>\n",
       "      <th>Swimming Pool</th>\n",
       "      <th>ratio</th>\n",
       "      <th>maintain</th>\n",
       "      <th>extra_space</th>\n",
       "    </tr>\n",
       "  </thead>\n",
       "  <tbody>\n",
       "    <tr>\n",
       "      <th>Price</th>\n",
       "      <td>1.000000</td>\n",
       "      <td>0.722336</td>\n",
       "      <td>0.594865</td>\n",
       "      <td>0.032428</td>\n",
       "      <td>0.098097</td>\n",
       "      <td>0.084775</td>\n",
       "      <td>0.063060</td>\n",
       "      <td>0.122352</td>\n",
       "      <td>0.118245</td>\n",
       "      <td>0.123902</td>\n",
       "      <td>0.748424</td>\n",
       "      <td>0.069119</td>\n",
       "      <td>0.068300</td>\n",
       "    </tr>\n",
       "    <tr>\n",
       "      <th>Area</th>\n",
       "      <td>0.722336</td>\n",
       "      <td>1.000000</td>\n",
       "      <td>0.812692</td>\n",
       "      <td>0.028197</td>\n",
       "      <td>0.198772</td>\n",
       "      <td>0.181121</td>\n",
       "      <td>0.145060</td>\n",
       "      <td>0.151458</td>\n",
       "      <td>0.094251</td>\n",
       "      <td>0.209696</td>\n",
       "      <td>0.289135</td>\n",
       "      <td>0.146225</td>\n",
       "      <td>0.139457</td>\n",
       "    </tr>\n",
       "    <tr>\n",
       "      <th>No. of Bedrooms</th>\n",
       "      <td>0.594865</td>\n",
       "      <td>0.812692</td>\n",
       "      <td>1.000000</td>\n",
       "      <td>0.099334</td>\n",
       "      <td>0.227887</td>\n",
       "      <td>0.203105</td>\n",
       "      <td>0.144554</td>\n",
       "      <td>0.175645</td>\n",
       "      <td>0.061616</td>\n",
       "      <td>0.234695</td>\n",
       "      <td>0.382097</td>\n",
       "      <td>0.120177</td>\n",
       "      <td>0.148645</td>\n",
       "    </tr>\n",
       "    <tr>\n",
       "      <th>New/Resale</th>\n",
       "      <td>0.032428</td>\n",
       "      <td>0.028197</td>\n",
       "      <td>0.099334</td>\n",
       "      <td>1.000000</td>\n",
       "      <td>0.243751</td>\n",
       "      <td>0.269434</td>\n",
       "      <td>0.232293</td>\n",
       "      <td>0.290162</td>\n",
       "      <td>-0.029659</td>\n",
       "      <td>0.276606</td>\n",
       "      <td>0.056046</td>\n",
       "      <td>-0.055944</td>\n",
       "      <td>0.284345</td>\n",
       "    </tr>\n",
       "    <tr>\n",
       "      <th>Gymnasium</th>\n",
       "      <td>0.098097</td>\n",
       "      <td>0.198772</td>\n",
       "      <td>0.227887</td>\n",
       "      <td>0.243751</td>\n",
       "      <td>1.000000</td>\n",
       "      <td>0.756068</td>\n",
       "      <td>0.490203</td>\n",
       "      <td>0.410831</td>\n",
       "      <td>0.098228</td>\n",
       "      <td>0.722224</td>\n",
       "      <td>0.058073</td>\n",
       "      <td>0.383902</td>\n",
       "      <td>0.622753</td>\n",
       "    </tr>\n",
       "    <tr>\n",
       "      <th>Clubhouse</th>\n",
       "      <td>0.084775</td>\n",
       "      <td>0.181121</td>\n",
       "      <td>0.203105</td>\n",
       "      <td>0.269434</td>\n",
       "      <td>0.756068</td>\n",
       "      <td>1.000000</td>\n",
       "      <td>0.557319</td>\n",
       "      <td>0.463670</td>\n",
       "      <td>0.130183</td>\n",
       "      <td>0.752771</td>\n",
       "      <td>0.034409</td>\n",
       "      <td>0.324934</td>\n",
       "      <td>0.677838</td>\n",
       "    </tr>\n",
       "    <tr>\n",
       "      <th>Intercom</th>\n",
       "      <td>0.063060</td>\n",
       "      <td>0.145060</td>\n",
       "      <td>0.144554</td>\n",
       "      <td>0.232293</td>\n",
       "      <td>0.490203</td>\n",
       "      <td>0.557319</td>\n",
       "      <td>1.000000</td>\n",
       "      <td>0.339773</td>\n",
       "      <td>0.267485</td>\n",
       "      <td>0.497140</td>\n",
       "      <td>0.035821</td>\n",
       "      <td>0.187839</td>\n",
       "      <td>0.547813</td>\n",
       "    </tr>\n",
       "    <tr>\n",
       "      <th>Indoor Games</th>\n",
       "      <td>0.122352</td>\n",
       "      <td>0.151458</td>\n",
       "      <td>0.175645</td>\n",
       "      <td>0.290162</td>\n",
       "      <td>0.410831</td>\n",
       "      <td>0.463670</td>\n",
       "      <td>0.339773</td>\n",
       "      <td>1.000000</td>\n",
       "      <td>-0.000791</td>\n",
       "      <td>0.476680</td>\n",
       "      <td>0.104516</td>\n",
       "      <td>0.280535</td>\n",
       "      <td>0.590455</td>\n",
       "    </tr>\n",
       "    <tr>\n",
       "      <th>Gas Connection</th>\n",
       "      <td>0.118245</td>\n",
       "      <td>0.094251</td>\n",
       "      <td>0.061616</td>\n",
       "      <td>-0.029659</td>\n",
       "      <td>0.098228</td>\n",
       "      <td>0.130183</td>\n",
       "      <td>0.267485</td>\n",
       "      <td>-0.000791</td>\n",
       "      <td>1.000000</td>\n",
       "      <td>0.085364</td>\n",
       "      <td>0.149190</td>\n",
       "      <td>-0.049718</td>\n",
       "      <td>0.090959</td>\n",
       "    </tr>\n",
       "    <tr>\n",
       "      <th>Swimming Pool</th>\n",
       "      <td>0.123902</td>\n",
       "      <td>0.209696</td>\n",
       "      <td>0.234695</td>\n",
       "      <td>0.276606</td>\n",
       "      <td>0.722224</td>\n",
       "      <td>0.752771</td>\n",
       "      <td>0.497140</td>\n",
       "      <td>0.476680</td>\n",
       "      <td>0.085364</td>\n",
       "      <td>1.000000</td>\n",
       "      <td>0.087350</td>\n",
       "      <td>0.294334</td>\n",
       "      <td>0.694237</td>\n",
       "    </tr>\n",
       "    <tr>\n",
       "      <th>ratio</th>\n",
       "      <td>0.748424</td>\n",
       "      <td>0.289135</td>\n",
       "      <td>0.382097</td>\n",
       "      <td>0.056046</td>\n",
       "      <td>0.058073</td>\n",
       "      <td>0.034409</td>\n",
       "      <td>0.035821</td>\n",
       "      <td>0.104516</td>\n",
       "      <td>0.149190</td>\n",
       "      <td>0.087350</td>\n",
       "      <td>1.000000</td>\n",
       "      <td>-0.005246</td>\n",
       "      <td>0.006566</td>\n",
       "    </tr>\n",
       "    <tr>\n",
       "      <th>maintain</th>\n",
       "      <td>0.069119</td>\n",
       "      <td>0.146225</td>\n",
       "      <td>0.120177</td>\n",
       "      <td>-0.055944</td>\n",
       "      <td>0.383902</td>\n",
       "      <td>0.324934</td>\n",
       "      <td>0.187839</td>\n",
       "      <td>0.280535</td>\n",
       "      <td>-0.049718</td>\n",
       "      <td>0.294334</td>\n",
       "      <td>-0.005246</td>\n",
       "      <td>1.000000</td>\n",
       "      <td>0.409561</td>\n",
       "    </tr>\n",
       "    <tr>\n",
       "      <th>extra_space</th>\n",
       "      <td>0.068300</td>\n",
       "      <td>0.139457</td>\n",
       "      <td>0.148645</td>\n",
       "      <td>0.284345</td>\n",
       "      <td>0.622753</td>\n",
       "      <td>0.677838</td>\n",
       "      <td>0.547813</td>\n",
       "      <td>0.590455</td>\n",
       "      <td>0.090959</td>\n",
       "      <td>0.694237</td>\n",
       "      <td>0.006566</td>\n",
       "      <td>0.409561</td>\n",
       "      <td>1.000000</td>\n",
       "    </tr>\n",
       "  </tbody>\n",
       "</table>\n",
       "</div>"
      ],
      "text/plain": [
       "                    Price      Area  No. of Bedrooms  New/Resale  Gymnasium  \\\n",
       "Price            1.000000  0.722336         0.594865    0.032428   0.098097   \n",
       "Area             0.722336  1.000000         0.812692    0.028197   0.198772   \n",
       "No. of Bedrooms  0.594865  0.812692         1.000000    0.099334   0.227887   \n",
       "New/Resale       0.032428  0.028197         0.099334    1.000000   0.243751   \n",
       "Gymnasium        0.098097  0.198772         0.227887    0.243751   1.000000   \n",
       "Clubhouse        0.084775  0.181121         0.203105    0.269434   0.756068   \n",
       "Intercom         0.063060  0.145060         0.144554    0.232293   0.490203   \n",
       "Indoor Games     0.122352  0.151458         0.175645    0.290162   0.410831   \n",
       "Gas Connection   0.118245  0.094251         0.061616   -0.029659   0.098228   \n",
       "Swimming Pool    0.123902  0.209696         0.234695    0.276606   0.722224   \n",
       "ratio            0.748424  0.289135         0.382097    0.056046   0.058073   \n",
       "maintain         0.069119  0.146225         0.120177   -0.055944   0.383902   \n",
       "extra_space      0.068300  0.139457         0.148645    0.284345   0.622753   \n",
       "\n",
       "                 Clubhouse  Intercom  Indoor Games  Gas Connection  \\\n",
       "Price             0.084775  0.063060      0.122352        0.118245   \n",
       "Area              0.181121  0.145060      0.151458        0.094251   \n",
       "No. of Bedrooms   0.203105  0.144554      0.175645        0.061616   \n",
       "New/Resale        0.269434  0.232293      0.290162       -0.029659   \n",
       "Gymnasium         0.756068  0.490203      0.410831        0.098228   \n",
       "Clubhouse         1.000000  0.557319      0.463670        0.130183   \n",
       "Intercom          0.557319  1.000000      0.339773        0.267485   \n",
       "Indoor Games      0.463670  0.339773      1.000000       -0.000791   \n",
       "Gas Connection    0.130183  0.267485     -0.000791        1.000000   \n",
       "Swimming Pool     0.752771  0.497140      0.476680        0.085364   \n",
       "ratio             0.034409  0.035821      0.104516        0.149190   \n",
       "maintain          0.324934  0.187839      0.280535       -0.049718   \n",
       "extra_space       0.677838  0.547813      0.590455        0.090959   \n",
       "\n",
       "                 Swimming Pool     ratio  maintain  extra_space  \n",
       "Price                 0.123902  0.748424  0.069119     0.068300  \n",
       "Area                  0.209696  0.289135  0.146225     0.139457  \n",
       "No. of Bedrooms       0.234695  0.382097  0.120177     0.148645  \n",
       "New/Resale            0.276606  0.056046 -0.055944     0.284345  \n",
       "Gymnasium             0.722224  0.058073  0.383902     0.622753  \n",
       "Clubhouse             0.752771  0.034409  0.324934     0.677838  \n",
       "Intercom              0.497140  0.035821  0.187839     0.547813  \n",
       "Indoor Games          0.476680  0.104516  0.280535     0.590455  \n",
       "Gas Connection        0.085364  0.149190 -0.049718     0.090959  \n",
       "Swimming Pool         1.000000  0.087350  0.294334     0.694237  \n",
       "ratio                 0.087350  1.000000 -0.005246     0.006566  \n",
       "maintain              0.294334 -0.005246  1.000000     0.409561  \n",
       "extra_space           0.694237  0.006566  0.409561     1.000000  "
      ]
     },
     "execution_count": 20,
     "metadata": {},
     "output_type": "execute_result"
    }
   ],
   "source": [
    "df.corr()"
   ]
  },
  {
   "cell_type": "code",
   "execution_count": 21,
   "id": "b8bc8573",
   "metadata": {},
   "outputs": [
    {
     "data": {
      "application/javascript": [
       "\n",
       "        if (window._pyforest_update_imports_cell) { window._pyforest_update_imports_cell('import seaborn as sns\\nimport pandas as pd\\nimport matplotlib.pyplot as plt'); }\n",
       "    "
      ],
      "text/plain": [
       "<IPython.core.display.Javascript object>"
      ]
     },
     "metadata": {},
     "output_type": "display_data"
    },
    {
     "data": {
      "application/javascript": [
       "\n",
       "        if (window._pyforest_update_imports_cell) { window._pyforest_update_imports_cell('import seaborn as sns\\nimport pandas as pd\\nimport matplotlib.pyplot as plt'); }\n",
       "    "
      ],
      "text/plain": [
       "<IPython.core.display.Javascript object>"
      ]
     },
     "metadata": {},
     "output_type": "display_data"
    },
    {
     "data": {
      "text/plain": [
       "<AxesSubplot:>"
      ]
     },
     "execution_count": 21,
     "metadata": {},
     "output_type": "execute_result"
    },
    {
     "data": {
      "image/png": "[encoded data removed]",
      "text/plain": [
       "<Figure size 1008x648 with 2 Axes>"
      ]
     },
     "metadata": {
      "needs_background": "light"
     },
     "output_type": "display_data"
    }
   ],
   "source": [
    "plt.figure(figsize = (14,9))\n",
    "sns.heatmap(df.corr(),annot = True)\n"
   ]
  },
  {
   "cell_type": "markdown",
   "id": "9f719f3a",
   "metadata": {},
   "source": [
    "### From the Heat map we can observe there is high correlation between price and  Area, No. of Bed rooms which is a genral fact.\n",
    "\n",
    "#### There is also a decent corr between swimming pool and price"
   ]
  },
  {
   "cell_type": "markdown",
   "id": "3413a3b5",
   "metadata": {},
   "source": [
    "# we will check the relation between Area and No.  of Bedrooms"
   ]
  },
  {
   "cell_type": "code",
   "execution_count": 22,
   "id": "8942ab6e",
   "metadata": {},
   "outputs": [
    {
     "data": {
      "application/javascript": [
       "\n",
       "        if (window._pyforest_update_imports_cell) { window._pyforest_update_imports_cell('import seaborn as sns\\nimport pandas as pd\\nimport matplotlib.pyplot as plt'); }\n",
       "    "
      ],
      "text/plain": [
       "<IPython.core.display.Javascript object>"
      ]
     },
     "metadata": {},
     "output_type": "display_data"
    },
    {
     "data": {
      "application/javascript": [
       "\n",
       "        if (window._pyforest_update_imports_cell) { window._pyforest_update_imports_cell('import seaborn as sns\\nimport pandas as pd\\nimport matplotlib.pyplot as plt'); }\n",
       "    "
      ],
      "text/plain": [
       "<IPython.core.display.Javascript object>"
      ]
     },
     "metadata": {},
     "output_type": "display_data"
    },
    {
     "data": {
      "text/plain": [
       "<AxesSubplot:xlabel='Area', ylabel='No. of Bedrooms'>"
      ]
     },
     "execution_count": 22,
     "metadata": {},
     "output_type": "execute_result"
    },
    {
     "data": {
      "image/png": "[encoded data removed]",
      "text/plain": [
       "<Figure size 1008x648 with 1 Axes>"
      ]
     },
     "metadata": {
      "needs_background": "light"
     },
     "output_type": "display_data"
    }
   ],
   "source": [
    "plt.figure(figsize=(14,9))\n",
    "sns.regplot(y = df['No. of Bedrooms'],x = df['Area'])"
   ]
  },
  {
   "cell_type": "markdown",
   "id": "8af9085d",
   "metadata": {},
   "source": [
    "### Observation from Regression plot:\n",
    "-----> The regression plot is clearly showing the there is strong positive relation between **No. of Bedrooms** and **Area** "
   ]
  },
  {
   "cell_type": "code",
   "execution_count": 23,
   "id": "1c89d45d",
   "metadata": {},
   "outputs": [],
   "source": [
    "df.drop('Location',axis=1,inplace = True)\n",
    "#There is no weitage for Location in the data set"
   ]
  },
  {
   "cell_type": "code",
   "execution_count": 24,
   "id": "1402914e",
   "metadata": {},
   "outputs": [
    {
     "data": {
      "text/plain": [
       "Index(['Price', 'Area', 'No. of Bedrooms', 'New/Resale', 'Gymnasium',\n",
       "       'Clubhouse', 'Intercom', 'Indoor Games', 'Gas Connection',\n",
       "       'Swimming Pool', 'ratio', 'maintain', 'extra_space'],\n",
       "      dtype='object')"
      ]
     },
     "execution_count": 24,
     "metadata": {},
     "output_type": "execute_result"
    }
   ],
   "source": [
    "df.columns\n"
   ]
  },
  {
   "cell_type": "code",
   "execution_count": 25,
   "id": "fea242a2",
   "metadata": {},
   "outputs": [
    {
     "data": {
      "text/html": [
       "<div>\n",
       "<style scoped>\n",
       "    .dataframe tbody tr th:only-of-type {\n",
       "        vertical-align: middle;\n",
       "    }\n",
       "\n",
       "    .dataframe tbody tr th {\n",
       "        vertical-align: top;\n",
       "    }\n",
       "\n",
       "    .dataframe thead th {\n",
       "        text-align: right;\n",
       "    }\n",
       "</style>\n",
       "<table border=\"1\" class=\"dataframe\">\n",
       "  <thead>\n",
       "    <tr style=\"text-align: right;\">\n",
       "      <th></th>\n",
       "      <th>Area</th>\n",
       "      <th>No. of Bedrooms</th>\n",
       "      <th>New/Resale</th>\n",
       "      <th>Gymnasium</th>\n",
       "      <th>Clubhouse</th>\n",
       "      <th>Intercom</th>\n",
       "      <th>Indoor Games</th>\n",
       "      <th>Gas Connection</th>\n",
       "      <th>Swimming Pool</th>\n",
       "      <th>ratio</th>\n",
       "      <th>maintain</th>\n",
       "      <th>extra_space</th>\n",
       "    </tr>\n",
       "  </thead>\n",
       "  <tbody>\n",
       "    <tr>\n",
       "      <th>0</th>\n",
       "      <td>720</td>\n",
       "      <td>1</td>\n",
       "      <td>0</td>\n",
       "      <td>0</td>\n",
       "      <td>0</td>\n",
       "      <td>0</td>\n",
       "      <td>0</td>\n",
       "      <td>0</td>\n",
       "      <td>0</td>\n",
       "      <td>6736.111111</td>\n",
       "      <td>4</td>\n",
       "      <td>0</td>\n",
       "    </tr>\n",
       "    <tr>\n",
       "      <th>1</th>\n",
       "      <td>600</td>\n",
       "      <td>1</td>\n",
       "      <td>0</td>\n",
       "      <td>1</td>\n",
       "      <td>1</td>\n",
       "      <td>0</td>\n",
       "      <td>0</td>\n",
       "      <td>0</td>\n",
       "      <td>1</td>\n",
       "      <td>7500.000000</td>\n",
       "      <td>4</td>\n",
       "      <td>1</td>\n",
       "    </tr>\n",
       "    <tr>\n",
       "      <th>2</th>\n",
       "      <td>650</td>\n",
       "      <td>1</td>\n",
       "      <td>0</td>\n",
       "      <td>1</td>\n",
       "      <td>1</td>\n",
       "      <td>1</td>\n",
       "      <td>0</td>\n",
       "      <td>0</td>\n",
       "      <td>1</td>\n",
       "      <td>10307.692308</td>\n",
       "      <td>4</td>\n",
       "      <td>2</td>\n",
       "    </tr>\n",
       "    <tr>\n",
       "      <th>3</th>\n",
       "      <td>650</td>\n",
       "      <td>1</td>\n",
       "      <td>0</td>\n",
       "      <td>0</td>\n",
       "      <td>0</td>\n",
       "      <td>1</td>\n",
       "      <td>0</td>\n",
       "      <td>0</td>\n",
       "      <td>0</td>\n",
       "      <td>6923.076923</td>\n",
       "      <td>4</td>\n",
       "      <td>1</td>\n",
       "    </tr>\n",
       "    <tr>\n",
       "      <th>4</th>\n",
       "      <td>665</td>\n",
       "      <td>1</td>\n",
       "      <td>0</td>\n",
       "      <td>0</td>\n",
       "      <td>0</td>\n",
       "      <td>1</td>\n",
       "      <td>0</td>\n",
       "      <td>0</td>\n",
       "      <td>0</td>\n",
       "      <td>7518.796992</td>\n",
       "      <td>4</td>\n",
       "      <td>1</td>\n",
       "    </tr>\n",
       "    <tr>\n",
       "      <th>...</th>\n",
       "      <td>...</td>\n",
       "      <td>...</td>\n",
       "      <td>...</td>\n",
       "      <td>...</td>\n",
       "      <td>...</td>\n",
       "      <td>...</td>\n",
       "      <td>...</td>\n",
       "      <td>...</td>\n",
       "      <td>...</td>\n",
       "      <td>...</td>\n",
       "      <td>...</td>\n",
       "      <td>...</td>\n",
       "    </tr>\n",
       "    <tr>\n",
       "      <th>6342</th>\n",
       "      <td>700</td>\n",
       "      <td>1</td>\n",
       "      <td>1</td>\n",
       "      <td>0</td>\n",
       "      <td>0</td>\n",
       "      <td>0</td>\n",
       "      <td>0</td>\n",
       "      <td>0</td>\n",
       "      <td>0</td>\n",
       "      <td>3550.000000</td>\n",
       "      <td>0</td>\n",
       "      <td>0</td>\n",
       "    </tr>\n",
       "    <tr>\n",
       "      <th>6343</th>\n",
       "      <td>900</td>\n",
       "      <td>2</td>\n",
       "      <td>0</td>\n",
       "      <td>0</td>\n",
       "      <td>0</td>\n",
       "      <td>0</td>\n",
       "      <td>0</td>\n",
       "      <td>0</td>\n",
       "      <td>0</td>\n",
       "      <td>16111.111111</td>\n",
       "      <td>0</td>\n",
       "      <td>0</td>\n",
       "    </tr>\n",
       "    <tr>\n",
       "      <th>6344</th>\n",
       "      <td>900</td>\n",
       "      <td>2</td>\n",
       "      <td>0</td>\n",
       "      <td>0</td>\n",
       "      <td>0</td>\n",
       "      <td>1</td>\n",
       "      <td>0</td>\n",
       "      <td>1</td>\n",
       "      <td>0</td>\n",
       "      <td>16111.111111</td>\n",
       "      <td>1</td>\n",
       "      <td>0</td>\n",
       "    </tr>\n",
       "    <tr>\n",
       "      <th>6345</th>\n",
       "      <td>1380</td>\n",
       "      <td>3</td>\n",
       "      <td>0</td>\n",
       "      <td>0</td>\n",
       "      <td>0</td>\n",
       "      <td>0</td>\n",
       "      <td>0</td>\n",
       "      <td>0</td>\n",
       "      <td>0</td>\n",
       "      <td>2971.014493</td>\n",
       "      <td>0</td>\n",
       "      <td>0</td>\n",
       "    </tr>\n",
       "    <tr>\n",
       "      <th>6346</th>\n",
       "      <td>700</td>\n",
       "      <td>1</td>\n",
       "      <td>1</td>\n",
       "      <td>1</td>\n",
       "      <td>1</td>\n",
       "      <td>0</td>\n",
       "      <td>1</td>\n",
       "      <td>0</td>\n",
       "      <td>1</td>\n",
       "      <td>3928.571429</td>\n",
       "      <td>3</td>\n",
       "      <td>3</td>\n",
       "    </tr>\n",
       "  </tbody>\n",
       "</table>\n",
       "<p>6347 rows × 12 columns</p>\n",
       "</div>"
      ],
      "text/plain": [
       "      Area  No. of Bedrooms  New/Resale  Gymnasium  Clubhouse  Intercom  \\\n",
       "0      720                1           0          0          0         0   \n",
       "1      600                1           0          1          1         0   \n",
       "2      650                1           0          1          1         1   \n",
       "3      650                1           0          0          0         1   \n",
       "4      665                1           0          0          0         1   \n",
       "...    ...              ...         ...        ...        ...       ...   \n",
       "6342   700                1           1          0          0         0   \n",
       "6343   900                2           0          0          0         0   \n",
       "6344   900                2           0          0          0         1   \n",
       "6345  1380                3           0          0          0         0   \n",
       "6346   700                1           1          1          1         0   \n",
       "\n",
       "      Indoor Games  Gas Connection  Swimming Pool         ratio  maintain  \\\n",
       "0                0               0              0   6736.111111         4   \n",
       "1                0               0              1   7500.000000         4   \n",
       "2                0               0              1  10307.692308         4   \n",
       "3                0               0              0   6923.076923         4   \n",
       "4                0               0              0   7518.796992         4   \n",
       "...            ...             ...            ...           ...       ...   \n",
       "6342             0               0              0   3550.000000         0   \n",
       "6343             0               0              0  16111.111111         0   \n",
       "6344             0               1              0  16111.111111         1   \n",
       "6345             0               0              0   2971.014493         0   \n",
       "6346             1               0              1   3928.571429         3   \n",
       "\n",
       "      extra_space  \n",
       "0               0  \n",
       "1               1  \n",
       "2               2  \n",
       "3               1  \n",
       "4               1  \n",
       "...           ...  \n",
       "6342            0  \n",
       "6343            0  \n",
       "6344            0  \n",
       "6345            0  \n",
       "6346            3  \n",
       "\n",
       "[6347 rows x 12 columns]"
      ]
     },
     "execution_count": 25,
     "metadata": {},
     "output_type": "execute_result"
    }
   ],
   "source": [
    "x = df.drop('Price',axis = 1)\n",
    "\n",
    "y = df['Price']\n",
    "x"
   ]
  },
  {
   "cell_type": "code",
   "execution_count": 26,
   "id": "90bd7c8c",
   "metadata": {},
   "outputs": [],
   "source": [
    "from sklearn.model_selection import train_test_split\n",
    "trainx,testx,trainy,testy = train_test_split(x,y,random_state=42)"
   ]
  },
  {
   "cell_type": "code",
   "execution_count": 27,
   "id": "731f84f5",
   "metadata": {},
   "outputs": [
    {
     "data": {
      "text/plain": [
       "LinearRegression()"
      ]
     },
     "execution_count": 27,
     "metadata": {},
     "output_type": "execute_result"
    }
   ],
   "source": [
    "from sklearn.linear_model import LinearRegression\n",
    "lr = LinearRegression()\n",
    "lr.fit(trainx,trainy)"
   ]
  },
  {
   "cell_type": "code",
   "execution_count": 28,
   "id": "9c361714",
   "metadata": {},
   "outputs": [],
   "source": [
    "yp = lr.predict(testx)"
   ]
  },
  {
   "cell_type": "code",
   "execution_count": 29,
   "id": "d237eef4",
   "metadata": {},
   "outputs": [
    {
     "data": {
      "text/plain": [
       "83.92084567269616"
      ]
     },
     "execution_count": 29,
     "metadata": {},
     "output_type": "execute_result"
    }
   ],
   "source": [
    "from sklearn.metrics import r2_score,mean_absolute_error,mean_squared_error\n",
    "r2_score(testy,yp)*100\n",
    "#mean_absolute_error(testy,yp)\n"
   ]
  },
  {
   "cell_type": "code",
   "execution_count": 30,
   "id": "eeb13f42",
   "metadata": {},
   "outputs": [
    {
     "data": {
      "text/plain": [
       "RandomForestRegressor(n_estimators=160)"
      ]
     },
     "execution_count": 30,
     "metadata": {},
     "output_type": "execute_result"
    }
   ],
   "source": [
    "from sklearn.ensemble import RandomForestRegressor\n",
    "rf = RandomForestRegressor(n_estimators=160,)\n",
    "rf.fit(trainx,trainy)"
   ]
  },
  {
   "cell_type": "code",
   "execution_count": 31,
   "id": "3d9bb352",
   "metadata": {},
   "outputs": [],
   "source": [
    "ypr = rf.predict(testx)"
   ]
  },
  {
   "cell_type": "code",
   "execution_count": 32,
   "id": "2961209c",
   "metadata": {},
   "outputs": [
    {
     "data": {
      "text/plain": [
       "98.29389519844618"
      ]
     },
     "execution_count": 32,
     "metadata": {},
     "output_type": "execute_result"
    }
   ],
   "source": [
    "r2_score(testy,ypr)*100\n",
    "\n",
    "#mean_absolute_error(testy,ypr)"
   ]
  },
  {
   "cell_type": "code",
   "execution_count": null,
   "id": "f22c9f3a",
   "metadata": {},
   "outputs": [],
   "source": []
  },
  {
   "cell_type": "code",
   "execution_count": null,
   "id": "5ff521e9",
   "metadata": {},
   "outputs": [],
   "source": []
  },
  {
   "cell_type": "code",
   "execution_count": null,
   "id": "d7b497b5",
   "metadata": {},
   "outputs": [],
   "source": []
  },
  {
   "cell_type": "code",
   "execution_count": null,
   "id": "2a3d7436",
   "metadata": {},
   "outputs": [],
   "source": []
  },
  {
   "cell_type": "code",
   "execution_count": null,
   "id": "e057d71c",
   "metadata": {},
   "outputs": [],
   "source": []
  },
  {
   "cell_type": "code",
   "execution_count": null,
   "id": "d08b6e68",
   "metadata": {},
   "outputs": [],
   "source": []
  },
  {
   "cell_type": "code",
   "execution_count": null,
   "id": "267921ff",
   "metadata": {},
   "outputs": [],
   "source": []
  }
 ],
 "metadata": {
  "kernelspec": {
   "display_name": "Python 3",
   "language": "python",
   "name": "python3"
  },
  "language_info": {
   "codemirror_mode": {
    "name": "ipython",
    "version": 3
   },
   "file_extension": ".py",
   "mimetype": "text/x-python",
   "name": "python",
   "nbconvert_exporter": "python",
   "pygments_lexer": "ipython3",
   "version": "3.8.8"
  }
 },
 "nbformat": 4,
 "nbformat_minor": 5
}
